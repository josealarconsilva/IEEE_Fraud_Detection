{
 "cells": [
  {
   "attachments": {},
   "cell_type": "markdown",
   "metadata": {},
   "source": [
    "Fraud prevention systems save customers millions of dollars per year. \n",
    "\n",
    "IEEE Computational Intelligence Society partnered with Vesta Corporation, a global transaction guarantee company for online purchases, to improve their fraud detection via a Kaggle competition. \n",
    "\n",
    "A dataset of real-world e-commerce transactions were provided by Vesta to use. "
   ]
  },
  {
   "attachments": {},
   "cell_type": "markdown",
   "metadata": {},
   "source": [
    "The goal is to determine whether a transaction is fraudulent. This is a classification problem. For this problem, gradient-boosted decision tree machine learning XGBoost was used. \n",
    "* Gradient boosting is an extension of boosting methods where the process of addatively generating weak models is represented as a gradient descent algorithm. "
   ]
  },
  {
   "attachments": {},
   "cell_type": "markdown",
   "metadata": {},
   "source": [
    "# Exploratory Data Analysis"
   ]
  },
  {
   "cell_type": "code",
   "execution_count": 3,
   "metadata": {},
   "outputs": [],
   "source": [
    "import numpy as np \n",
    "import pandas as pd \n",
    "from sklearn import preprocessing \n",
    "import xgboost as xgb\n",
    "import matplotlib as plt"
   ]
  },
  {
   "cell_type": "code",
   "execution_count": null,
   "metadata": {},
   "outputs": [],
   "source": []
  },
  {
   "attachments": {},
   "cell_type": "markdown",
   "metadata": {},
   "source": [
    "Transactional features:\n",
    "* TransactionDT: timedelta from a given reference datetime (not an actual timestamp)\n",
    "\n",
    "* TransactionAMT: transaction payment amount in USD\n",
    "\n",
    "* ProductCD: product code, the product for each transaction\n",
    "\n",
    "* card1 - card6: payment card information, such as card type, card category, \n",
    "\n",
    "* issue bank, country, etc.\n",
    "\n",
    "* addr: address\n",
    "* dist: distance\n",
    "\n",
    "* P_ and (R__) emaildomain: purchaser and recipient email domain\n",
    "* C1-C14: counting, such as how many addresses are found to be associated with the payment card, etc. The actual meaning is masked.\n",
    "\n",
    "* D1-D15: timedelta, such as days between previous transaction, etc.\n",
    "\n",
    "* M1-M9: match, such as names on card and address, etc.\n",
    "\n",
    "* Vxxx: Vesta engineered rich features, including ranking, counting, and other entity relations.\n",
    "\n",
    "Categorical Features:\n",
    "\n",
    "* ProductCD\n",
    "\n",
    "* card1 - card6\n",
    "\n",
    "* addr1, addr2\n",
    "* P_emaildomain\n",
    "* R_emaildomain\n",
    "* M1 - M9"
   ]
  },
  {
   "cell_type": "code",
   "execution_count": null,
   "metadata": {},
   "outputs": [],
   "source": []
  }
 ],
 "metadata": {
  "kernelspec": {
   "display_name": "Python 3",
   "language": "python",
   "name": "python3"
  },
  "language_info": {
   "codemirror_mode": {
    "name": "ipython",
    "version": 3
   },
   "file_extension": ".py",
   "mimetype": "text/x-python",
   "name": "python",
   "nbconvert_exporter": "python",
   "pygments_lexer": "ipython3",
   "version": "3.10.7"
  },
  "orig_nbformat": 4
 },
 "nbformat": 4,
 "nbformat_minor": 2
}
